{
  "nbformat": 4,
  "nbformat_minor": 0,
  "metadata": {
    "colab": {
      "provenance": [],
      "gpuType": "T4",
      "authorship_tag": "ABX9TyP4Q30py6Y7mhqcZMpSRC3t",
      "include_colab_link": true
    },
    "kernelspec": {
      "name": "python3",
      "display_name": "Python 3"
    },
    "language_info": {
      "name": "python"
    },
    "accelerator": "GPU"
  },
  "cells": [
    {
      "cell_type": "markdown",
      "metadata": {
        "id": "view-in-github",
        "colab_type": "text"
      },
      "source": [
        "<a href=\"https://colab.research.google.com/github/NgoKien15802/DemoIdentityKeyCloak/blob/main/ocr.ipynb\" target=\"_parent\"><img src=\"https://colab.research.google.com/assets/colab-badge.svg\" alt=\"Open In Colab\"/></a>"
      ]
    },
    {
      "cell_type": "code",
      "execution_count": null,
      "metadata": {
        "id": "XXl1OZvN17W_",
        "colab": {
          "base_uri": "https://localhost:8080/"
        },
        "outputId": "dbc1ccc6-c8c6-491a-8fc7-e30fe4d9f606"
      },
      "outputs": [
        {
          "output_type": "stream",
          "name": "stdout",
          "text": [
            "\u001b[2K     \u001b[90m━━━━━━━━━━━━━━━━━━━━━━━━━━━━━━━━━━━━━━━━\u001b[0m \u001b[32m43.7/43.7 kB\u001b[0m \u001b[31m3.4 MB/s\u001b[0m eta \u001b[36m0:00:00\u001b[0m\n",
            "\u001b[2K   \u001b[90m━━━━━━━━━━━━━━━━━━━━━━━━━━━━━━━━━━━━━━━━\u001b[0m \u001b[32m9.5/9.5 MB\u001b[0m \u001b[31m118.8 MB/s\u001b[0m eta \u001b[36m0:00:00\u001b[0m\n",
            "\u001b[2K   \u001b[90m━━━━━━━━━━━━━━━━━━━━━━━━━━━━━━━━━━━━━━━━\u001b[0m \u001b[32m76.1/76.1 MB\u001b[0m \u001b[31m10.4 MB/s\u001b[0m eta \u001b[36m0:00:00\u001b[0m\n",
            "\u001b[2K   \u001b[90m━━━━━━━━━━━━━━━━━━━━━━━━━━━━━━━━━━━━━━━━\u001b[0m \u001b[32m3.6/3.6 MB\u001b[0m \u001b[31m100.2 MB/s\u001b[0m eta \u001b[36m0:00:00\u001b[0m\n",
            "\u001b[2K   \u001b[90m━━━━━━━━━━━━━━━━━━━━━━━━━━━━━━━━━━━━━━━━\u001b[0m \u001b[32m363.4/363.4 MB\u001b[0m \u001b[31m4.3 MB/s\u001b[0m eta \u001b[36m0:00:00\u001b[0m\n",
            "\u001b[2K   \u001b[90m━━━━━━━━━━━━━━━━━━━━━━━━━━━━━━━━━━━━━━━━\u001b[0m \u001b[32m13.8/13.8 MB\u001b[0m \u001b[31m79.7 MB/s\u001b[0m eta \u001b[36m0:00:00\u001b[0m\n",
            "\u001b[2K   \u001b[90m━━━━━━━━━━━━━━━━━━━━━━━━━━━━━━━━━━━━━━━━\u001b[0m \u001b[32m24.6/24.6 MB\u001b[0m \u001b[31m57.8 MB/s\u001b[0m eta \u001b[36m0:00:00\u001b[0m\n",
            "\u001b[2K   \u001b[90m━━━━━━━━━━━━━━━━━━━━━━━━━━━━━━━━━━━━━━━━\u001b[0m \u001b[32m883.7/883.7 kB\u001b[0m \u001b[31m45.5 MB/s\u001b[0m eta \u001b[36m0:00:00\u001b[0m\n",
            "\u001b[2K   \u001b[90m━━━━━━━━━━━━━━━━━━━━━━━━━━━━━━━━━━━━━━━━\u001b[0m \u001b[32m664.8/664.8 MB\u001b[0m \u001b[31m2.5 MB/s\u001b[0m eta \u001b[36m0:00:00\u001b[0m\n",
            "\u001b[2K   \u001b[90m━━━━━━━━━━━━━━━━━━━━━━━━━━━━━━━━━━━━━━━━\u001b[0m \u001b[32m211.5/211.5 MB\u001b[0m \u001b[31m2.3 MB/s\u001b[0m eta \u001b[36m0:00:00\u001b[0m\n",
            "\u001b[2K   \u001b[90m━━━━━━━━━━━━━━━━━━━━━━━━━━━━━━━━━━━━━━━━\u001b[0m \u001b[32m56.3/56.3 MB\u001b[0m \u001b[31m10.1 MB/s\u001b[0m eta \u001b[36m0:00:00\u001b[0m\n",
            "\u001b[2K   \u001b[90m━━━━━━━━━━━━━━━━━━━━━━━━━━━━━━━━━━━━━━━━\u001b[0m \u001b[32m127.9/127.9 MB\u001b[0m \u001b[31m8.6 MB/s\u001b[0m eta \u001b[36m0:00:00\u001b[0m\n",
            "\u001b[2K   \u001b[90m━━━━━━━━━━━━━━━━━━━━━━━━━━━━━━━━━━━━━━━━\u001b[0m \u001b[32m207.5/207.5 MB\u001b[0m \u001b[31m5.2 MB/s\u001b[0m eta \u001b[36m0:00:00\u001b[0m\n",
            "\u001b[2K   \u001b[90m━━━━━━━━━━━━━━━━━━━━━━━━━━━━━━━━━━━━━━━━\u001b[0m \u001b[32m21.1/21.1 MB\u001b[0m \u001b[31m88.7 MB/s\u001b[0m eta \u001b[36m0:00:00\u001b[0m\n",
            "\u001b[?25h"
          ]
        }
      ],
      "source": [
        "!pip install -U -q transformers==4.44.2 bitsandbytes\n",
        "!pip install -U -q huggingface_hub\n",
        "!pip install -q flask flask-cors pyngrok flash_attn"
      ]
    },
    {
      "cell_type": "code",
      "source": [
        "import numpy as np\n",
        "import torch\n",
        "import torchvision.transforms as T\n",
        "from PIL import Image\n",
        "from torchvision.transforms.functional import InterpolationMode\n",
        "from transformers import AutoModel, AutoTokenizer\n",
        "import requests\n"
      ],
      "metadata": {
        "id": "I1MmFbKH8vPy"
      },
      "execution_count": null,
      "outputs": []
    },
    {
      "cell_type": "markdown",
      "source": [
        "#Thư viện xử lý ảnh đầu vào"
      ],
      "metadata": {
        "id": "4irAgSd28xbR"
      }
    },
    {
      "cell_type": "code",
      "source": [
        "# Thư viện xử lý ảnh đầu vào (từ source gốc HF)\n",
        "IMAGENET_MEAN = (0.485, 0.456, 0.406)\n",
        "IMAGENET_STD = (0.229, 0.224, 0.225)\n",
        "\n",
        "def build_transform(input_size):\n",
        "    MEAN, STD = IMAGENET_MEAN, IMAGENET_STD\n",
        "    transform = T.Compose([\n",
        "        T.Lambda(lambda img: img.convert('RGB') if img.mode != 'RGB' else img),\n",
        "        T.Resize((input_size, input_size), interpolation=InterpolationMode.BICUBIC),\n",
        "        T.ToTensor(),\n",
        "        T.Normalize(mean=MEAN, std=STD)\n",
        "    ])\n",
        "    return transform\n",
        "\n",
        "def find_closest_aspect_ratio(aspect_ratio, target_ratios, width, height, image_size):\n",
        "    best_ratio_diff = float('inf')\n",
        "    best_ratio = (1, 1)\n",
        "    area = width * height\n",
        "    for ratio in target_ratios:\n",
        "        target_aspect_ratio = ratio[0] / ratio[1]\n",
        "        ratio_diff = abs(aspect_ratio - target_aspect_ratio)\n",
        "        if ratio_diff < best_ratio_diff:\n",
        "            best_ratio_diff = ratio_diff\n",
        "            best_ratio = ratio\n",
        "        elif ratio_diff == best_ratio_diff:\n",
        "            if area > 0.5 * image_size * image_size * ratio[0] * ratio[1]:\n",
        "                best_ratio = ratio\n",
        "    return best_ratio\n",
        "\n",
        "def dynamic_preprocess(image, min_num=1, max_num=12, image_size=448, use_thumbnail=False):\n",
        "    orig_width, orig_height = image.size\n",
        "    aspect_ratio = orig_width / orig_height\n",
        "\n",
        "    # calculate the existing image aspect ratio\n",
        "    target_ratios = set(\n",
        "        (i, j) for n in range(min_num, max_num + 1) for i in range(1, n + 1) for j in range(1, n + 1) if\n",
        "        i * j <= max_num and i * j >= min_num)\n",
        "    target_ratios = sorted(target_ratios, key=lambda x: x[0] * x[1])\n",
        "\n",
        "    # find the closest aspect ratio to the target\n",
        "    target_aspect_ratio = find_closest_aspect_ratio(\n",
        "        aspect_ratio, target_ratios, orig_width, orig_height, image_size)\n",
        "\n",
        "    # calculate the target width and height\n",
        "    target_width = image_size * target_aspect_ratio[0]\n",
        "    target_height = image_size * target_aspect_ratio[1]\n",
        "    blocks = target_aspect_ratio[0] * target_aspect_ratio[1]\n",
        "\n",
        "    # resize the image\n",
        "    resized_img = image.resize((target_width, target_height))\n",
        "    processed_images = []\n",
        "    for i in range(blocks):\n",
        "        box = (\n",
        "            (i % (target_width // image_size)) * image_size,\n",
        "            (i // (target_width // image_size)) * image_size,\n",
        "            ((i % (target_width // image_size)) + 1) * image_size,\n",
        "            ((i // (target_width // image_size)) + 1) * image_size\n",
        "        )\n",
        "        # split the image\n",
        "        split_img = resized_img.crop(box)\n",
        "        processed_images.append(split_img)\n",
        "    assert len(processed_images) == blocks\n",
        "    if use_thumbnail and len(processed_images) != 1:\n",
        "        thumbnail_img = image.resize((image_size, image_size))\n",
        "        processed_images.append(thumbnail_img)\n",
        "    return processed_images\n",
        "\n",
        "def load_image(image_file, input_size=448, max_num=12):\n",
        "    image = Image.open(requests.get(image_file, stream=True).raw).convert('RGB')#Image.open(image_file).convert('RGB')\n",
        "    transform = build_transform(input_size=input_size)\n",
        "    images = dynamic_preprocess(image, image_size=input_size, use_thumbnail=True, max_num=max_num)\n",
        "    pixel_values = [transform(image) for image in images]\n",
        "    pixel_values = torch.stack(pixel_values)\n",
        "    return pixel_values\n"
      ],
      "metadata": {
        "id": "BeRRR_Qd80Zh"
      },
      "execution_count": null,
      "outputs": []
    },
    {
      "cell_type": "markdown",
      "source": [
        "#Load model và test model trên Colab"
      ],
      "metadata": {
        "id": "gUI7mMzI9XTf"
      }
    },
    {
      "cell_type": "code",
      "source": [
        "model_name = \"5CD-AI/Vintern-1B-v2\"\n",
        "model = AutoModel.from_pretrained(\n",
        "    model_name,\n",
        "    torch_dtype=torch.bfloat16,\n",
        "    low_cpu_mem_usage=True,\n",
        "    trust_remote_code=True,\n",
        ").eval().cuda()\n",
        "\n",
        "tokenizer = AutoTokenizer.from_pretrained(model_name, trust_remote_code=True, use_fast=False)\n",
        "generation_config = dict(max_new_tokens= 512, do_sample=False, num_beams = 3, repetition_penalty=3.5)\n",
        "\n"
      ],
      "metadata": {
        "id": "LDIqsQkf9gfA"
      },
      "execution_count": null,
      "outputs": []
    },
    {
      "cell_type": "markdown",
      "source": [],
      "metadata": {
        "id": "UkREI0rv-CqN"
      }
    },
    {
      "cell_type": "code",
      "source": [
        "test_image = 'https://media-cdn-v2.laodong.vn/Storage/NewsPortal/2022/12/7/1124909/Karaoke-2.jpg'\n",
        "\n",
        "pixel_values = load_image(test_image, max_num=6).to(torch.bfloat16).cuda()\n",
        "\n",
        "prompt = '''<image>\\nNhận diện hoá đơn trong ảnh. Chỉ trả về phần liệt kê các mặt hàng hàng dưới dạng JSON:\n",
        "[\n",
        "  {\n",
        "    \"Tên món\": \"Tên món\",\n",
        "    \"Số lượng\": \"Số lượng\",\n",
        "    \"Đơn giá\": \"Đơn giá\",\n",
        "    \"Thành tiền\": \"Thành tiền\"\n",
        "  },\n",
        "]\n",
        "'''\n",
        "response = model.chat(tokenizer, pixel_values, prompt, generation_config)\n",
        "\n",
        "del pixel_values\n",
        "response"
      ],
      "metadata": {
        "colab": {
          "base_uri": "https://localhost:8080/",
          "height": 140
        },
        "id": "5CqnkTi_-Kvm",
        "outputId": "00d965f1-edde-4fa4-bf0d-78d6f766a626"
      },
      "execution_count": null,
      "outputs": [
        {
          "output_type": "stream",
          "name": "stderr",
          "text": [
            "Setting `pad_token_id` to `eos_token_id`:151645 for open-end generation.\n"
          ]
        },
        {
          "output_type": "execute_result",
          "data": {
            "text/plain": [
              "'[\\n  {\\n    \"Tên món\": \"Giờ VIP222\",\\n    \"Số lượng\": \"1h54\\'\",\\n    \"Đơn giá\": \"500 000\",\\n    \"Thành tiền\": \"950 000\"\\n  },\\n  {\\n    \"Tên món\": \"Suối\",\\n    \"Số lượng\": \"3\",\\n    \"Đơn giá\": \"12 000\",\\n    \"Thành tiền\": \"36 000\"\\n  },\\n  {\\n    \"Tên món\": \"Hoa quả thập cẩm\",\\n    \"Số lượng\": \"1\",\\n    \"Đơn giá\": \"140 000\",\\n    \"Thành tiền\": \"140 000\"\\n  },\\n  {\\n    \"Tên món\": \"Hoa quả Bưởi\",\\n    \"Số lượng\": \"2\",\\n    \"Đơn giá\": \"220 000\",\\n    \"Thành tiền\": \"440 000\"\\n  },\\n  {\\n    \"Tên món\": \"Hoa Quả Roi\",\\n    \"Số lượng\": \"1\",\\n    \"Đơn giá\": \"100 000\",\\n    \"Thành tiền\": \"100 000\"\\n  },\\n  {\\n    \"Tên món\": \"Ken ngoại\",\\n    \"Số lượng\": \"14\",\\n    \"Đơn giá\": \"60 000\",\\n    \"Thành tiền\": \"840 000\"\\n  }\\n]'"
            ],
            "application/vnd.google.colaboratory.intrinsic+json": {
              "type": "string"
            }
          },
          "metadata": {},
          "execution_count": 5
        }
      ]
    },
    {
      "cell_type": "markdown",
      "source": [
        "# Triển khai Flask và Expose ra API qua Ngrok"
      ],
      "metadata": {
        "id": "5XBHMLBn_5oe"
      }
    },
    {
      "cell_type": "code",
      "source": [
        "# Setup Ngrok Token\n",
        "from google.colab import userdata\n",
        "from flask import Flask, jsonify, request\n",
        "from flask_cors import CORS\n",
        "from pyngrok import ngrok\n",
        "import json\n",
        "\n",
        "authtoken = userdata.get(\"ngrok_token\")\n",
        "ngrok.set_auth_token(authtoken)"
      ],
      "metadata": {
        "colab": {
          "base_uri": "https://localhost:8080/"
        },
        "id": "gMvxvtxcAIqA",
        "outputId": "2d7d6b10-06ad-4e0d-d2da-6779bd13d337"
      },
      "execution_count": null,
      "outputs": [
        {
          "output_type": "stream",
          "name": "stdout",
          "text": []
        }
      ]
    },
    {
      "cell_type": "markdown",
      "source": [
        "# Viết code Flask để expose ra API"
      ],
      "metadata": {
        "id": "YiX8XEYIBj-c"
      }
    },
    {
      "cell_type": "code",
      "source": [
        "\n",
        "\n",
        "# Initialize Flask app\n",
        "app = Flask(__name__)\n",
        "CORS(app)\n",
        "\n",
        "# Prompt cho mặt trước CCCD\n",
        "prompt_front = '''<image> Hãy nhận diện các thông tin trên căn cước công dân và trích xuất thành JSON có cấu trúc sau:\n",
        "{\n",
        "  \"No\": \"Số căn cước công dân\",\n",
        "  \"FullName\": \"Họ và tên đầy đủ\",\n",
        "  \"DateOfBirth\": \"Ngày tháng năm sinh (định dạng DD/MM/YYYY)\",\n",
        "  \"Sex\": \"Giới tính (Nam/Nữ)\",\n",
        "  \"Nationality\": \"Quốc tịch\",\n",
        "  \"PlaceOfOrigin\": \"Nguyên quán\",\n",
        "  \"PlaceOfResidence\": \"Nơi thường trú (bao gồm cả thông tin đầy đủ ở phần dưới, không chỉ ghi vắn tắt như 'VD Xóm 1, Hưng Yên,...')\",\n",
        "  \"DateOfExpiry\": \"Ngày hết hạn (định dạng DD/MM/YYYY)\"\n",
        "}\n",
        "\n",
        "Lưu ý:\n",
        "- Trả về JSON hợp lệ.\n",
        "- Đảm bảo trích xuất đúng định dạng ngày tháng.\n",
        "- \"PlaceOfResidence\" phải bao gồm đầy đủ cả phần ghi chú phía dưới (nếu có).\n",
        "'''\n",
        "\n",
        "# Prompt cho mặt sau CCCD\n",
        "prompt_back = '''<image>\n",
        "Hãy nhận diện các thông tin trên mặt sau của căn cước công dân và trích xuất thành JSON có cấu trúc sau:\n",
        "\n",
        "{\n",
        "  \"IssueDate\": \"Ngày cấp (định dạng DD/MM/YYYY)\",\n",
        "  \"No\": \"Số căn cước công dân (12 số cuối từ chuỗi 27 ký tự đầu tiên trước dấu `<<`)\"\n",
        "}\n",
        "\n",
        "Lưu ý:\n",
        "- Trả về JSON hợp lệ.\n",
        "- \"IssueDate\" phải đúng định dạng DD/MM/YYYY.\n",
        "- \"No\" phải lấy **chính xác 12 số cuối của chuỗi 27 ký tự đầu tiên trước dấu `<<`**, không lấy nhầm số khác.\n",
        "\n",
        "Ví dụ:\n",
        "- Nếu chuỗi trên thẻ là: `IDVNM202004857036203995703<<8239489023894`\n",
        "- Kết quả mong muốn: `\"No\": \"036203995703\"`\n",
        "'''\n",
        "\n",
        "\n",
        "\n",
        "\n",
        "@app.route('/ocr/front', methods=['POST'])\n",
        "def ocr_front():\n",
        "    data = request.json\n",
        "    image_url = data.get('image_url', None)\n",
        "\n",
        "    response_message = ocr_by_llm(image_url, prompt_front)\n",
        "    try:\n",
        "        json_object = json.loads(response_message)\n",
        "        return jsonify(json_object)  # ✅ Trả về object JSON hợp lệ\n",
        "    except json.JSONDecodeError:\n",
        "        return jsonify({\"error\": \"Lỗi định dạng JSON\", \"raw\": response_message}), 500\n",
        "\n",
        "@app.route('/ocr/back', methods=['POST'])\n",
        "def ocr_back():\n",
        "    data = request.json\n",
        "    image_url = data.get('image_url', None)\n",
        "\n",
        "    response_message = ocr_by_llm(image_url, prompt_back)\n",
        "    try:\n",
        "        json_object = json.loads(response_message)\n",
        "        return jsonify(json_object)  # ✅ Trả về object JSON hợp lệ\n",
        "    except json.JSONDecodeError:\n",
        "        return jsonify({\"error\": \"Lỗi định dạng JSON\", \"raw\": response_message}), 500\n",
        "\n",
        "def ocr_by_llm(image_url, prompt):\n",
        "    pixel_values = load_image(image_url, max_num=6).to(torch.bfloat16).cuda()\n",
        "    response_message = model.chat(tokenizer, pixel_values, prompt, generation_config)\n",
        "    del pixel_values\n",
        "\n",
        "    print(response_message)\n",
        "    return response_message\n",
        "\n",
        "if __name__ == '__main__':\n",
        "    ngrok_url = ngrok.connect(5555)\n",
        "    print(f\"Ngrok URL: {ngrok_url}\")\n",
        "    app.run(port=5555)\n"
      ],
      "metadata": {
        "colab": {
          "base_uri": "https://localhost:8080/",
          "height": 383
        },
        "id": "NVYjWEMxBoTe",
        "outputId": "6267d56d-2dcd-4711-f486-21cd5e7bed95"
      },
      "execution_count": 1,
      "outputs": [
        {
          "output_type": "error",
          "ename": "ModuleNotFoundError",
          "evalue": "No module named 'flask_cors'",
          "traceback": [
            "\u001b[0;31m---------------------------------------------------------------------------\u001b[0m",
            "\u001b[0;31mModuleNotFoundError\u001b[0m                       Traceback (most recent call last)",
            "\u001b[0;32m<ipython-input-1-ec8851518d7b>\u001b[0m in \u001b[0;36m<cell line: 0>\u001b[0;34m()\u001b[0m\n\u001b[1;32m      1\u001b[0m \u001b[0;32mimport\u001b[0m \u001b[0mjson\u001b[0m\u001b[0;34m\u001b[0m\u001b[0;34m\u001b[0m\u001b[0m\n\u001b[1;32m      2\u001b[0m \u001b[0;32mfrom\u001b[0m \u001b[0mflask\u001b[0m \u001b[0;32mimport\u001b[0m \u001b[0mFlask\u001b[0m\u001b[0;34m,\u001b[0m \u001b[0mrequest\u001b[0m\u001b[0;34m,\u001b[0m \u001b[0mjsonify\u001b[0m\u001b[0;34m\u001b[0m\u001b[0;34m\u001b[0m\u001b[0m\n\u001b[0;32m----> 3\u001b[0;31m \u001b[0;32mfrom\u001b[0m \u001b[0mflask_cors\u001b[0m \u001b[0;32mimport\u001b[0m \u001b[0mCORS\u001b[0m\u001b[0;34m\u001b[0m\u001b[0;34m\u001b[0m\u001b[0m\n\u001b[0m\u001b[1;32m      4\u001b[0m \u001b[0;34m\u001b[0m\u001b[0m\n\u001b[1;32m      5\u001b[0m \u001b[0;31m# Initialize Flask app\u001b[0m\u001b[0;34m\u001b[0m\u001b[0;34m\u001b[0m\u001b[0m\n",
            "\u001b[0;31mModuleNotFoundError\u001b[0m: No module named 'flask_cors'",
            "",
            "\u001b[0;31m---------------------------------------------------------------------------\u001b[0;32m\nNOTE: If your import is failing due to a missing package, you can\nmanually install dependencies using either !pip or !apt.\n\nTo view examples of installing some common dependencies, click the\n\"Open Examples\" button below.\n\u001b[0;31m---------------------------------------------------------------------------\u001b[0m\n"
          ],
          "errorDetails": {
            "actions": [
              {
                "action": "open_url",
                "actionText": "Open Examples",
                "url": "/notebooks/snippets/importing_libraries.ipynb"
              }
            ]
          }
        }
      ]
    },
    {
      "cell_type": "code",
      "source": [],
      "metadata": {
        "id": "QAp3cDFwGcvQ"
      },
      "execution_count": null,
      "outputs": []
    }
  ]
}